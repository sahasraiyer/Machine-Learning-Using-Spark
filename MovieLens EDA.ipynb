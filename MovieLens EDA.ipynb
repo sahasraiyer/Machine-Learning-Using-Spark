{
 "cells": [
  {
   "cell_type": "code",
   "execution_count": 129,
   "id": "24902201-95eb-42c7-8b54-759fa786bce8",
   "metadata": {
    "tags": []
   },
   "outputs": [],
   "source": [
    "from pyspark import SparkContext\n",
    "import datetime\n",
    "import re\n",
    "from scipy import sparse as sp\n",
    "from pyspark.mllib.feature import Normalizer"
   ]
  },
  {
   "cell_type": "code",
   "execution_count": 2,
   "id": "9122d334-e912-4e50-9e61-44adb4255829",
   "metadata": {
    "tags": []
   },
   "outputs": [
    {
     "name": "stdout",
     "output_type": "stream",
     "text": [
      "%pylab is deprecated, use %matplotlib inline and import the required libraries.\n",
      "Populating the interactive namespace from numpy and matplotlib\n"
     ]
    }
   ],
   "source": [
    "%pylab inline"
   ]
  },
  {
   "cell_type": "code",
   "execution_count": 3,
   "id": "4a3916e0-d327-4956-84b1-64bef9fa78da",
   "metadata": {
    "tags": []
   },
   "outputs": [
    {
     "name": "stderr",
     "output_type": "stream",
     "text": [
      "24/02/04 16:14:23 WARN Utils: Your hostname, Sahasras-MacBook-Pro.local resolves to a loopback address: 127.0.0.1; using 10.0.0.206 instead (on interface en0)\n",
      "24/02/04 16:14:23 WARN Utils: Set SPARK_LOCAL_IP if you need to bind to another address\n",
      "Setting default log level to \"WARN\".\n",
      "To adjust logging level use sc.setLogLevel(newLevel). For SparkR, use setLogLevel(newLevel).\n",
      "24/02/04 16:14:24 WARN NativeCodeLoader: Unable to load native-hadoop library for your platform... using builtin-java classes where applicable\n"
     ]
    }
   ],
   "source": [
    "sc = SparkContext(\"local[2]\", \"Movielens dataset\")"
   ]
  },
  {
   "cell_type": "code",
   "execution_count": 4,
   "id": "5166234a-05ee-43df-be75-df13625b2f4c",
   "metadata": {
    "tags": []
   },
   "outputs": [],
   "source": [
    "# Read user file -> Cols:  user id | age | gender | occupation | zip code\n",
    "user_data = sc.textFile(\"./data/ml-100k/u.user\")"
   ]
  },
  {
   "cell_type": "code",
   "execution_count": 5,
   "id": "d4a1d9fc-d9b5-41f0-b7aa-ada94864dcd8",
   "metadata": {
    "tags": []
   },
   "outputs": [
    {
     "name": "stderr",
     "output_type": "stream",
     "text": [
      "                                                                                \r"
     ]
    },
    {
     "data": {
      "text/plain": [
       "'1|24|M|technician|85711'"
      ]
     },
     "execution_count": 5,
     "metadata": {},
     "output_type": "execute_result"
    }
   ],
   "source": [
    "# Dsiplays first element of RDD\n",
    "user_data.first()"
   ]
  },
  {
   "cell_type": "code",
   "execution_count": 6,
   "id": "5f7cf848-ba5b-4ac8-988a-47f0f7bfee30",
   "metadata": {
    "tags": []
   },
   "outputs": [
    {
     "data": {
      "text/plain": [
       "['1|24|M|technician|85711', '2|53|F|other|94043', '3|23|M|writer|32067']"
      ]
     },
     "execution_count": 6,
     "metadata": {},
     "output_type": "execute_result"
    }
   ],
   "source": [
    "user_data.take(3)"
   ]
  },
  {
   "cell_type": "code",
   "execution_count": 7,
   "id": "86c6873d-24e7-4434-8a84-671b056f9391",
   "metadata": {
    "tags": []
   },
   "outputs": [
    {
     "data": {
      "text/plain": [
       "[['1', '24', 'M', 'technician', '85711'], ['2', '53', 'F', 'other', '94043']]"
      ]
     },
     "execution_count": 7,
     "metadata": {},
     "output_type": "execute_result"
    }
   ],
   "source": [
    "user_fields = user_data.map(lambda line: line.split(\"|\"))\n",
    "user_fields.take(2)"
   ]
  },
  {
   "cell_type": "code",
   "execution_count": 8,
   "id": "f8c01a10-b5ec-499f-8f88-a971d6d23c73",
   "metadata": {
    "tags": []
   },
   "outputs": [
    {
     "data": {
      "text/plain": [
       "943"
      ]
     },
     "execution_count": 8,
     "metadata": {},
     "output_type": "execute_result"
    }
   ],
   "source": [
    "# Count the number of user_ids\n",
    "num_users = user_fields.map(lambda fields: fields[0]).count()\n",
    "num_users"
   ]
  },
  {
   "cell_type": "code",
   "execution_count": 9,
   "id": "ee5afd26-a370-4953-ae52-295bdd6ed72f",
   "metadata": {
    "tags": []
   },
   "outputs": [
    {
     "data": {
      "text/plain": [
       "2"
      ]
     },
     "execution_count": 9,
     "metadata": {},
     "output_type": "execute_result"
    }
   ],
   "source": [
    "num_genders = user_fields.map(lambda fields: fields[2]).distinct().count()\n",
    "num_genders"
   ]
  },
  {
   "cell_type": "code",
   "execution_count": 10,
   "id": "0018ce05-ec15-4074-9f84-5eec050d3354",
   "metadata": {
    "tags": []
   },
   "outputs": [
    {
     "data": {
      "text/plain": [
       "795"
      ]
     },
     "execution_count": 10,
     "metadata": {},
     "output_type": "execute_result"
    }
   ],
   "source": [
    "num_zipcodes = user_fields.map(lambda fields: fields[4]).distinct().count()\n",
    "num_zipcodes"
   ]
  },
  {
   "cell_type": "code",
   "execution_count": 11,
   "id": "2f527af3-484c-42e3-9b75-47bc6a52afb5",
   "metadata": {
    "tags": []
   },
   "outputs": [
    {
     "data": {
      "image/png": "[encoded data removed]",
      "text/plain": [
       "<Figure size 800x500 with 1 Axes>"
      ]
     },
     "metadata": {},
     "output_type": "display_data"
    }
   ],
   "source": [
    "ages = user_fields.map(lambda x: int(x[1])).collect()\n",
    "hist(ages, bins=20, color='lightblue', edgecolor='black')\n",
    "fig = matplotlib.pyplot.gcf()\n",
    "fig.set_size_inches(8, 5)"
   ]
  },
  {
   "cell_type": "code",
   "execution_count": 12,
   "id": "2d95ea5b-6d2f-4fd2-a8be-6d859382dbb0",
   "metadata": {
    "tags": []
   },
   "outputs": [
    {
     "data": {
      "text/plain": [
       "[('other', 105),\n",
       " ('writer', 45),\n",
       " ('executive', 32),\n",
       " ('lawyer', 12),\n",
       " ('educator', 95),\n",
       " ('entertainment', 18),\n",
       " ('homemaker', 7),\n",
       " ('artist', 28),\n",
       " ('marketing', 26),\n",
       " ('none', 9),\n",
       " ('retired', 14),\n",
       " ('doctor', 7),\n",
       " ('technician', 27),\n",
       " ('administrator', 79),\n",
       " ('student', 196),\n",
       " ('scientist', 31),\n",
       " ('programmer', 66),\n",
       " ('librarian', 51),\n",
       " ('engineer', 67),\n",
       " ('healthcare', 16),\n",
       " ('salesman', 12)]"
      ]
     },
     "execution_count": 12,
     "metadata": {},
     "output_type": "execute_result"
    }
   ],
   "source": [
    "# Chained transformations\n",
    "count_by_occupation = user_fields.map(lambda fields: (fields[3], 1)).reduceByKey(lambda x, y: x+y).collect()\n",
    "count_by_occupation"
   ]
  },
  {
   "cell_type": "code",
   "execution_count": 13,
   "id": "05aa8c5a-0c82-4e41-9496-688c8d130064",
   "metadata": {
    "tags": []
   },
   "outputs": [
    {
     "data": {
      "text/plain": [
       "(array(['other', 'writer', 'executive', 'lawyer', 'educator',\n",
       "        'entertainment', 'homemaker', 'artist', 'marketing', 'none',\n",
       "        'retired', 'doctor', 'technician', 'administrator', 'student',\n",
       "        'scientist', 'programmer', 'librarian', 'engineer', 'healthcare',\n",
       "        'salesman'], dtype='<U13'),\n",
       " array([105,  45,  32,  12,  95,  18,   7,  28,  26,   9,  14,   7,  27,\n",
       "         79, 196,  31,  66,  51,  67,  16,  12]))"
      ]
     },
     "execution_count": 13,
     "metadata": {},
     "output_type": "execute_result"
    }
   ],
   "source": [
    "x_axis1 = np.array([c[0] for c in count_by_occupation])\n",
    "y_axis1 = np.array([c[1] for c in count_by_occupation])\n",
    "x_axis1, y_axis1"
   ]
  },
  {
   "cell_type": "code",
   "execution_count": 14,
   "id": "45db5aa5-20c9-4fbe-b44c-31d55416d526",
   "metadata": {
    "tags": []
   },
   "outputs": [
    {
     "data": {
      "text/plain": [
       "(array(['doctor', 'homemaker', 'none', 'salesman', 'lawyer', 'retired',\n",
       "        'healthcare', 'entertainment', 'marketing', 'technician', 'artist',\n",
       "        'scientist', 'executive', 'writer', 'librarian', 'programmer',\n",
       "        'engineer', 'administrator', 'educator', 'other', 'student'],\n",
       "       dtype='<U13'),\n",
       " array([  7,   7,   9,  12,  12,  14,  16,  18,  26,  27,  28,  31,  32,\n",
       "         45,  51,  66,  67,  79,  95, 105, 196]))"
      ]
     },
     "execution_count": 14,
     "metadata": {},
     "output_type": "execute_result"
    }
   ],
   "source": [
    "x_axis = x_axis1[np.argsort(y_axis1)]\n",
    "y_axis = y_axis1[np.argsort(y_axis1)]\n",
    "x_axis, y_axis"
   ]
  },
  {
   "cell_type": "code",
   "execution_count": 15,
   "id": "2bc4e916-4988-4edb-a59f-b4e042acfcdc",
   "metadata": {
    "tags": []
   },
   "outputs": [
    {
     "data": {
      "image/png": "[encoded data removed]",
      "text/plain": [
       "<Figure size 800x500 with 1 Axes>"
      ]
     },
     "metadata": {},
     "output_type": "display_data"
    }
   ],
   "source": [
    "pos = np.arange(len(x_axis))\n",
    "width = 1.0\n",
    "ax = plt.axes()\n",
    "ax.set_xticks(pos + (width/2))\n",
    "ax.set_xticklabels(x_axis)\n",
    "\n",
    "plt.bar(pos, y_axis, width, color='lightblue', edgecolor='black')\n",
    "plt.xticks(rotation=90)\n",
    "fig = matplotlib.pyplot.gcf()\n",
    "fig.set_size_inches(8, 5)"
   ]
  },
  {
   "cell_type": "code",
   "execution_count": 16,
   "id": "76cc9496-705c-4b3c-a490-ea5eceafe50a",
   "metadata": {
    "tags": []
   },
   "outputs": [
    {
     "data": {
      "text/plain": [
       "defaultdict(int,\n",
       "            {'technician': 27,\n",
       "             'other': 105,\n",
       "             'writer': 45,\n",
       "             'executive': 32,\n",
       "             'administrator': 79,\n",
       "             'student': 196,\n",
       "             'lawyer': 12,\n",
       "             'educator': 95,\n",
       "             'scientist': 31,\n",
       "             'entertainment': 18,\n",
       "             'programmer': 66,\n",
       "             'librarian': 51,\n",
       "             'homemaker': 7,\n",
       "             'artist': 28,\n",
       "             'engineer': 67,\n",
       "             'marketing': 26,\n",
       "             'none': 9,\n",
       "             'healthcare': 16,\n",
       "             'retired': 14,\n",
       "             'salesman': 12,\n",
       "             'doctor': 7})"
      ]
     },
     "execution_count": 16,
     "metadata": {},
     "output_type": "execute_result"
    }
   ],
   "source": [
    "# Map Reduce method\n",
    "count_by_occupation_ = user_fields.map(lambda fields: fields[3]).countByValue()\n",
    "count_by_occupation_"
   ]
  },
  {
   "cell_type": "code",
   "execution_count": 17,
   "id": "916dc30e-db31-4a18-9370-87dcd1205425",
   "metadata": {
    "tags": []
   },
   "outputs": [
    {
     "data": {
      "text/plain": [
       "'1|Toy Story (1995)|01-Jan-1995||http://us.imdb.com/M/title-exact?Toy%20Story%20(1995)|0|0|0|1|1|1|0|0|0|0|0|0|0|0|0|0|0|0|0'"
      ]
     },
     "execution_count": 17,
     "metadata": {},
     "output_type": "execute_result"
    }
   ],
   "source": [
    "movie_data = sc.textFile(\"./data/ml-100k/u.item\")\n",
    "movie_data.first()"
   ]
  },
  {
   "cell_type": "code",
   "execution_count": 18,
   "id": "cea14748-699d-456e-bb41-de663c53d9a3",
   "metadata": {
    "tags": []
   },
   "outputs": [
    {
     "data": {
      "text/plain": [
       "(['1|Toy Story (1995)|01-Jan-1995||http://us.imdb.com/M/title-exact?Toy%20Story%20(1995)|0|0|0|1|1|1|0|0|0|0|0|0|0|0|0|0|0|0|0',\n",
       "  '2|GoldenEye (1995)|01-Jan-1995||http://us.imdb.com/M/title-exact?GoldenEye%20(1995)|0|1|1|0|0|0|0|0|0|0|0|0|0|0|0|0|1|0|0',\n",
       "  '3|Four Rooms (1995)|01-Jan-1995||http://us.imdb.com/M/title-exact?Four%20Rooms%20(1995)|0|0|0|0|0|0|0|0|0|0|0|0|0|0|0|0|1|0|0'],\n",
       " 1682)"
      ]
     },
     "execution_count": 18,
     "metadata": {},
     "output_type": "execute_result"
    }
   ],
   "source": [
    "movie_data.take(3), movie_data.count()"
   ]
  },
  {
   "cell_type": "code",
   "execution_count": 19,
   "id": "060b6f35-e850-4acd-8d50-1cdff18d2183",
   "metadata": {
    "tags": []
   },
   "outputs": [],
   "source": [
    "def convert_year(x):\n",
    "    try:\n",
    "        return int(x[-4:])\n",
    "    except:\n",
    "        return 1900"
   ]
  },
  {
   "cell_type": "code",
   "execution_count": 20,
   "id": "8e64ca0a-5d2f-42d8-9375-06e739684b74",
   "metadata": {
    "tags": []
   },
   "outputs": [
    {
     "data": {
      "text/plain": [
       "[['1',\n",
       "  'Toy Story (1995)',\n",
       "  '01-Jan-1995',\n",
       "  '',\n",
       "  'http://us.imdb.com/M/title-exact?Toy%20Story%20(1995)',\n",
       "  '0',\n",
       "  '0',\n",
       "  '0',\n",
       "  '1',\n",
       "  '1',\n",
       "  '1',\n",
       "  '0',\n",
       "  '0',\n",
       "  '0',\n",
       "  '0',\n",
       "  '0',\n",
       "  '0',\n",
       "  '0',\n",
       "  '0',\n",
       "  '0',\n",
       "  '0',\n",
       "  '0',\n",
       "  '0',\n",
       "  '0'],\n",
       " ['2',\n",
       "  'GoldenEye (1995)',\n",
       "  '01-Jan-1995',\n",
       "  '',\n",
       "  'http://us.imdb.com/M/title-exact?GoldenEye%20(1995)',\n",
       "  '0',\n",
       "  '1',\n",
       "  '1',\n",
       "  '0',\n",
       "  '0',\n",
       "  '0',\n",
       "  '0',\n",
       "  '0',\n",
       "  '0',\n",
       "  '0',\n",
       "  '0',\n",
       "  '0',\n",
       "  '0',\n",
       "  '0',\n",
       "  '0',\n",
       "  '0',\n",
       "  '1',\n",
       "  '0',\n",
       "  '0'],\n",
       " ['3',\n",
       "  'Four Rooms (1995)',\n",
       "  '01-Jan-1995',\n",
       "  '',\n",
       "  'http://us.imdb.com/M/title-exact?Four%20Rooms%20(1995)',\n",
       "  '0',\n",
       "  '0',\n",
       "  '0',\n",
       "  '0',\n",
       "  '0',\n",
       "  '0',\n",
       "  '0',\n",
       "  '0',\n",
       "  '0',\n",
       "  '0',\n",
       "  '0',\n",
       "  '0',\n",
       "  '0',\n",
       "  '0',\n",
       "  '0',\n",
       "  '0',\n",
       "  '1',\n",
       "  '0',\n",
       "  '0']]"
      ]
     },
     "execution_count": 20,
     "metadata": {},
     "output_type": "execute_result"
    }
   ],
   "source": [
    "movie_fields = movie_data.map(lambda line: line.split(\"|\"))\n",
    "movie_fields.take(3)"
   ]
  },
  {
   "cell_type": "code",
   "execution_count": 21,
   "id": "57a91e48-ef99-43c6-9748-1a0278ebb1b4",
   "metadata": {
    "tags": []
   },
   "outputs": [
    {
     "data": {
      "text/plain": [
       "[1995, 1995, 1995]"
      ]
     },
     "execution_count": 21,
     "metadata": {},
     "output_type": "execute_result"
    }
   ],
   "source": [
    "years = movie_fields.map(lambda field: field[2]).map(lambda x: convert_year(x))\n",
    "years.take(3)"
   ]
  },
  {
   "cell_type": "code",
   "execution_count": 22,
   "id": "bce9febe-9a90-42a6-af34-f540cafa090c",
   "metadata": {
    "tags": []
   },
   "outputs": [],
   "source": [
    "years_filtered = years.filter(lambda x: x!=1900)"
   ]
  },
  {
   "cell_type": "code",
   "execution_count": 23,
   "id": "e89c4324-0163-4fae-90cc-17436af35e15",
   "metadata": {
    "tags": []
   },
   "outputs": [],
   "source": [
    "movie_ages = years_filtered.map(lambda yr: 1998-yr).countByValue()"
   ]
  },
  {
   "cell_type": "code",
   "execution_count": 24,
   "id": "840c99f3-83d5-44d6-8029-192efc7cea85",
   "metadata": {
    "tags": []
   },
   "outputs": [],
   "source": [
    "values = np.array(list(movie_ages.values()))\n",
    "bins = np.array(list(movie_ages.keys()))"
   ]
  },
  {
   "cell_type": "code",
   "execution_count": 25,
   "id": "d81d2f3f-ee4f-448f-9020-376a9fb1e4f6",
   "metadata": {
    "tags": []
   },
   "outputs": [],
   "source": [
    "values_f = values[np.argsort(bins)]\n",
    "bins_f = bins[np.argsort(bins)]"
   ]
  },
  {
   "cell_type": "code",
   "execution_count": 26,
   "id": "d3c10796-c4a3-4caf-931b-69af0ae932cc",
   "metadata": {
    "tags": []
   },
   "outputs": [
    {
     "data": {
      "image/png": "[encoded data removed]",
      "text/plain": [
       "<Figure size 800x400 with 1 Axes>"
      ]
     },
     "metadata": {},
     "output_type": "display_data"
    }
   ],
   "source": [
    "hist(values_f, bins=bins_f, color='lightblue', edgecolor='black')\n",
    "fig = matplotlib.pyplot.gcf()\n",
    "fig.set_size_inches(8, 4)"
   ]
  },
  {
   "cell_type": "code",
   "execution_count": 27,
   "id": "cfc03571-d27b-43c7-a9f3-076d050146b5",
   "metadata": {
    "tags": []
   },
   "outputs": [
    {
     "data": {
      "text/plain": [
       "['196\\t242\\t3\\t881250949', '186\\t302\\t3\\t891717742', '22\\t377\\t1\\t878887116']"
      ]
     },
     "execution_count": 27,
     "metadata": {},
     "output_type": "execute_result"
    }
   ],
   "source": [
    "rating_data_raw = sc.textFile(\"./data/ml-100k/u.data\")\n",
    "rating_data_raw.take(3)"
   ]
  },
  {
   "cell_type": "code",
   "execution_count": 28,
   "id": "1b5a9f0a-3260-4d47-84d8-939e63abdff9",
   "metadata": {
    "tags": []
   },
   "outputs": [
    {
     "data": {
      "text/plain": [
       "100000"
      ]
     },
     "execution_count": 28,
     "metadata": {},
     "output_type": "execute_result"
    }
   ],
   "source": [
    "num_ratings = rating_data_raw.count()\n",
    "num_ratings"
   ]
  },
  {
   "cell_type": "code",
   "execution_count": 29,
   "id": "ab29a353-ee18-47c7-a642-ad928735691c",
   "metadata": {
    "tags": []
   },
   "outputs": [
    {
     "data": {
      "text/plain": [
       "['196', '242', '3', '881250949']"
      ]
     },
     "execution_count": 29,
     "metadata": {},
     "output_type": "execute_result"
    }
   ],
   "source": [
    "ratings_data = rating_data_raw.map(lambda line:line.split(\"\\t\"))\n",
    "ratings_data.first()"
   ]
  },
  {
   "cell_type": "code",
   "execution_count": 30,
   "id": "e1373037-baff-4c4f-9b51-2299cc847745",
   "metadata": {
    "tags": []
   },
   "outputs": [
    {
     "data": {
      "text/plain": [
       "(5, 1, 3.52986, 4.0, 106.04453870625663, 59.45303210463734)"
      ]
     },
     "execution_count": 30,
     "metadata": {},
     "output_type": "execute_result"
    }
   ],
   "source": [
    "ratings = ratings_data.map(lambda field: int(field[2]))\n",
    "max_rating = ratings.reduce(lambda x, y: max(x, y))  # np.max(ratings.collect())\n",
    "min_rating = ratings.reduce(lambda x, y: min(x, y))\n",
    "mean_rating = ratings.reduce(lambda x, y: x+y) / num_ratings\n",
    "median_rating = np.median(ratings.collect())\n",
    "ratings_per_user = num_ratings / num_users\n",
    "ratings_per_movie = num_ratings / movie_data.count()\n",
    "max_rating, min_rating, mean_rating, median_rating, ratings_per_user, ratings_per_movie"
   ]
  },
  {
   "cell_type": "code",
   "execution_count": 31,
   "id": "5143400d-496d-4360-a4a7-976b1a2035d6",
   "metadata": {
    "tags": []
   },
   "outputs": [
    {
     "data": {
      "text/plain": [
       "(count: 100000, mean: 3.5298600000000024, stdev: 1.125667970762251, max: 5.0, min: 1.0)"
      ]
     },
     "execution_count": 31,
     "metadata": {},
     "output_type": "execute_result"
    }
   ],
   "source": [
    "ratings.stats()"
   ]
  },
  {
   "cell_type": "code",
   "execution_count": 32,
   "id": "87791d79-bd69-47cb-a095-5349fb0e5f47",
   "metadata": {
    "tags": []
   },
   "outputs": [
    {
     "data": {
      "image/png": "[encoded data removed]",
      "text/plain": [
       "<Figure size 800x500 with 1 Axes>"
      ]
     },
     "metadata": {},
     "output_type": "display_data"
    }
   ],
   "source": [
    "count_by_rating = ratings.countByValue()\n",
    "count_by_rating_sorted = dict(sorted(count_by_rating.items()))\n",
    "x_axis = np.array(list(count_by_rating_sorted.keys()))\n",
    "y_axis = np.array(list(count_by_rating_sorted.values()))\n",
    "\n",
    "pos = np.arange(1, len(x_axis)+1)\n",
    "width = 1.0\n",
    "ax = plt.axes()\n",
    "ax.set_xticks(pos)\n",
    "ax.set_xticklabels(x_axis)\n",
    "\n",
    "plt.bar(x_axis, y_axis, width, color='lightblue', edgecolor='black')\n",
    "plt.xticks(rotation=30)\n",
    "fig = matplotlib.pyplot.gcf()\n",
    "fig.set_size_inches(8, 5)"
   ]
  },
  {
   "cell_type": "code",
   "execution_count": 33,
   "id": "a159dd8e-e2f8-4436-8644-f55dfaf6a40e",
   "metadata": {
    "tags": []
   },
   "outputs": [
    {
     "data": {
      "text/plain": [
       "[(196, <pyspark.resultiterable.ResultIterable at 0x11df89710>),\n",
       " (186, <pyspark.resultiterable.ResultIterable at 0x11dd3e410>)]"
      ]
     },
     "execution_count": 33,
     "metadata": {},
     "output_type": "execute_result"
    }
   ],
   "source": [
    "# Ratings per user, user and rating\n",
    "\n",
    "user_ratings_grouped = ratings_data.map(lambda fields: (int(fields[0]), int(fields[2]))).groupByKey()\n",
    "user_ratings_grouped.take(2)"
   ]
  },
  {
   "cell_type": "code",
   "execution_count": 34,
   "id": "5000a994-7c9d-41fd-8384-1715de5b6589",
   "metadata": {
    "tags": []
   },
   "outputs": [
    {
     "data": {
      "text/plain": [
       "[(1, 272), (2, 62), (3, 54), (4, 24), (5, 175)]"
      ]
     },
     "execution_count": 34,
     "metadata": {},
     "output_type": "execute_result"
    }
   ],
   "source": [
    "user_ratings_byuser = user_ratings_grouped.mapValues(len).sortByKey()\n",
    "user_ratings_byuser.take(5)"
   ]
  },
  {
   "cell_type": "code",
   "execution_count": 35,
   "id": "f84c49e2-e6b5-4f98-8984-02b4d3ccaacc",
   "metadata": {
    "tags": []
   },
   "outputs": [
    {
     "data": {
      "image/png": "[encoded data removed]",
      "text/plain": [
       "<Figure size 1200x500 with 1 Axes>"
      ]
     },
     "metadata": {},
     "output_type": "display_data"
    }
   ],
   "source": [
    "user_ratings_byuser_local = [v for (k, v) in user_ratings_byuser.collect()]\n",
    "hist(user_ratings_byuser_local, bins=200, color='lightblue', edgecolor='black')\n",
    "fig = matplotlib.pyplot.gcf()\n",
    "fig.set_size_inches(12,5)"
   ]
  },
  {
   "cell_type": "code",
   "execution_count": 36,
   "id": "a02622b4-c267-456c-9787-dc4163d1937f",
   "metadata": {
    "tags": []
   },
   "outputs": [
    {
     "data": {
      "text/plain": [
       "[['196', '242', '3', '881250949'], ['186', '302', '3', '891717742']]"
      ]
     },
     "execution_count": 36,
     "metadata": {},
     "output_type": "execute_result"
    }
   ],
   "source": [
    "ratings_data.take(2)"
   ]
  },
  {
   "cell_type": "code",
   "execution_count": 37,
   "id": "d4a1c4be-cd8a-43dd-ba19-52901d46a18c",
   "metadata": {},
   "outputs": [],
   "source": [
    "# Rating per day - time series\n",
    "# How to convert a timestamp in string format to datetime suitable format in pyspark"
   ]
  },
  {
   "cell_type": "code",
   "execution_count": 38,
   "id": "5b1276fa-09dd-4508-8a31-b0955dee259d",
   "metadata": {
    "tags": []
   },
   "outputs": [
    {
     "data": {
      "text/plain": [
       "array([1995, 1995, 1995, ..., 1998, 1994, 1996])"
      ]
     },
     "execution_count": 38,
     "metadata": {},
     "output_type": "execute_result"
    }
   ],
   "source": [
    "# Filter bad data\n",
    "years_pre_processed = movie_fields.map(lambda x: x[2]).map(lambda y: convert_year(y)).collect()\n",
    "years_pre_processed_arr = np.array(years_pre_processed)\n",
    "years_pre_processed_arr"
   ]
  },
  {
   "cell_type": "code",
   "execution_count": 39,
   "id": "d496fb6d-bba0-4914-92be-de353192064f",
   "metadata": {
    "tags": []
   },
   "outputs": [
    {
     "data": {
      "text/plain": [
       "(1989, 1995)"
      ]
     },
     "execution_count": 39,
     "metadata": {},
     "output_type": "execute_result"
    }
   ],
   "source": [
    "mean_year = int(np.mean(years_pre_processed_arr[years_pre_processed_arr!=1900]))\n",
    "median_year = int(np.median(years_pre_processed_arr[years_pre_processed_arr!=1900]))\n",
    "mean_year, median_year"
   ]
  },
  {
   "cell_type": "code",
   "execution_count": 40,
   "id": "63c4611e-832a-46b8-8f64-f9498c04de30",
   "metadata": {
    "tags": []
   },
   "outputs": [
    {
     "data": {
      "text/plain": [
       "(array([], dtype=int64),)"
      ]
     },
     "execution_count": 40,
     "metadata": {},
     "output_type": "execute_result"
    }
   ],
   "source": [
    "index_bad_data = np.where(years_pre_processed_arr==1900)[0]\n",
    "years_pre_processed_arr[index_bad_data] = median_year\n",
    "# After filling bad value\n",
    "np.where(years_pre_processed_arr == 1900)"
   ]
  },
  {
   "cell_type": "code",
   "execution_count": 41,
   "id": "6f039cee-db14-4e40-89da-b8b6210bc382",
   "metadata": {
    "tags": []
   },
   "outputs": [
    {
     "data": {
      "text/plain": [
       "[['1', '24', 'M', 'technician', '85711'], ['2', '53', 'F', 'other', '94043']]"
      ]
     },
     "execution_count": 41,
     "metadata": {},
     "output_type": "execute_result"
    }
   ],
   "source": [
    "user_fields.take(2)"
   ]
  },
  {
   "cell_type": "code",
   "execution_count": 42,
   "id": "886ed805-dd24-44a9-87e4-2103db41eb86",
   "metadata": {
    "tags": []
   },
   "outputs": [],
   "source": [
    "all_occupations = user_fields.map(lambda x: x[3]).distinct().collect()\n",
    "all_occupations.sort()"
   ]
  },
  {
   "cell_type": "code",
   "execution_count": 43,
   "id": "71894b8a-3352-40c0-abb1-a8cf39c033a4",
   "metadata": {
    "tags": []
   },
   "outputs": [
    {
     "data": {
      "text/plain": [
       "{'administrator': 0,\n",
       " 'artist': 1,\n",
       " 'doctor': 2,\n",
       " 'educator': 3,\n",
       " 'engineer': 4,\n",
       " 'entertainment': 5,\n",
       " 'executive': 6,\n",
       " 'healthcare': 7,\n",
       " 'homemaker': 8,\n",
       " 'lawyer': 9,\n",
       " 'librarian': 10,\n",
       " 'marketing': 11,\n",
       " 'none': 12,\n",
       " 'other': 13,\n",
       " 'programmer': 14,\n",
       " 'retired': 15,\n",
       " 'salesman': 16,\n",
       " 'scientist': 17,\n",
       " 'student': 18,\n",
       " 'technician': 19,\n",
       " 'writer': 20}"
      ]
     },
     "execution_count": 43,
     "metadata": {},
     "output_type": "execute_result"
    }
   ],
   "source": [
    "# Creating dictionary of all occupations\n",
    "idx = 0\n",
    "all_occupations_dict = {}\n",
    "\n",
    "for occ in all_occupations:\n",
    "    all_occupations_dict[occ] = idx\n",
    "    idx+=1\n",
    "    \n",
    "all_occupations_dict"
   ]
  },
  {
   "cell_type": "code",
   "execution_count": 44,
   "id": "e536d450-e06b-4478-b6ea-dd6405ee1b80",
   "metadata": {
    "tags": []
   },
   "outputs": [
    {
     "data": {
      "text/plain": [
       "array([0., 0., 0., 0., 0., 0., 0., 0., 0., 0., 0., 0., 0., 0., 1., 0., 0.,\n",
       "       0., 0., 0., 0.])"
      ]
     },
     "execution_count": 44,
     "metadata": {},
     "output_type": "execute_result"
    }
   ],
   "source": [
    "k = len(all_occupations_dict)\n",
    "binary_x = np.zeros(k)\n",
    "\n",
    "k_programmer = all_occupations_dict['programmer']\n",
    "binary_x[k_programmer] = 1\n",
    "# One hot encoded representation of 'programmer'\n",
    "binary_x"
   ]
  },
  {
   "cell_type": "code",
   "execution_count": 45,
   "id": "176a1008-b158-4660-b2b0-0717d2a06c20",
   "metadata": {
    "tags": []
   },
   "outputs": [],
   "source": [
    "def extract_datetime(ts):\n",
    "    return datetime.datetime.fromtimestamp(ts)"
   ]
  },
  {
   "cell_type": "code",
   "execution_count": 46,
   "id": "4d54bfd5-3b3e-4471-ab38-cd583c7b5aaa",
   "metadata": {
    "tags": []
   },
   "outputs": [
    {
     "data": {
      "text/plain": [
       "[10, 14, 2, 0, 0]"
      ]
     },
     "execution_count": 46,
     "metadata": {},
     "output_type": "execute_result"
    }
   ],
   "source": [
    "timestamps = ratings_data.map(lambda x: int(x[3]))\n",
    "hour_of_day = timestamps.map(lambda x: extract_datetime(x).hour)\n",
    "hour_of_day.take(5)"
   ]
  },
  {
   "cell_type": "code",
   "execution_count": 47,
   "id": "112ccd4c-47bc-4780-97d2-2e23a0163a37",
   "metadata": {
    "tags": []
   },
   "outputs": [],
   "source": [
    "def assign_tod(hr):\n",
    "    times_of_day = {\n",
    "        'morning': range(7, 12),\n",
    "        'lunch': range(12, 14),\n",
    "        'afternoon': range(14, 18),\n",
    "        'evening': range(18, 23),\n",
    "        'night': [0, 1, 2, 3, 4, 5, 6]\n",
    "        \n",
    "    }\n",
    "    for k, v in times_of_day.items():\n",
    "        if hr in v:\n",
    "            return k"
   ]
  },
  {
   "cell_type": "code",
   "execution_count": 48,
   "id": "ed9f3bd0-25ad-4777-9138-b53fbb68d2c3",
   "metadata": {
    "tags": []
   },
   "outputs": [
    {
     "data": {
      "text/plain": [
       "['morning', 'afternoon', 'night', 'night', 'night']"
      ]
     },
     "execution_count": 48,
     "metadata": {},
     "output_type": "execute_result"
    }
   ],
   "source": [
    "time_of_day = hour_of_day.map(lambda hr: assign_tod(hr))\n",
    "time_of_day.take(5)"
   ]
  },
  {
   "cell_type": "code",
   "execution_count": 49,
   "id": "9e74c867-f471-4ca5-a295-53925d4c6387",
   "metadata": {
    "tags": []
   },
   "outputs": [
    {
     "data": {
      "text/plain": [
       "[['1',\n",
       "  'Toy Story (1995)',\n",
       "  '01-Jan-1995',\n",
       "  '',\n",
       "  'http://us.imdb.com/M/title-exact?Toy%20Story%20(1995)',\n",
       "  '0',\n",
       "  '0',\n",
       "  '0',\n",
       "  '1',\n",
       "  '1',\n",
       "  '1',\n",
       "  '0',\n",
       "  '0',\n",
       "  '0',\n",
       "  '0',\n",
       "  '0',\n",
       "  '0',\n",
       "  '0',\n",
       "  '0',\n",
       "  '0',\n",
       "  '0',\n",
       "  '0',\n",
       "  '0',\n",
       "  '0']]"
      ]
     },
     "execution_count": 49,
     "metadata": {},
     "output_type": "execute_result"
    }
   ],
   "source": [
    "movie_fields.take(1)"
   ]
  },
  {
   "cell_type": "code",
   "execution_count": 50,
   "id": "eab4574e-61d5-4a57-818e-1ff4aa950fbd",
   "metadata": {
    "tags": []
   },
   "outputs": [],
   "source": [
    "def extract_title(title):\n",
    "    grps = re.search(\"\\((\\w+)\\)\", title)\n",
    "    if grps:\n",
    "        return title[:grps.start()].strip()\n",
    "    else:\n",
    "        return title"
   ]
  },
  {
   "cell_type": "code",
   "execution_count": 51,
   "id": "743a96d0-7f12-426b-97d4-39a5b5f94a97",
   "metadata": {
    "tags": []
   },
   "outputs": [
    {
     "name": "stdout",
     "output_type": "stream",
     "text": [
      "Toy Story\n",
      "GoldenEye\n",
      "Four Rooms\n",
      "Get Shorty\n",
      "Copycat\n"
     ]
    }
   ],
   "source": [
    "raw_titles = movie_fields.map(lambda x: x[1])\n",
    "\n",
    "for raw_title in raw_titles.take(5):\n",
    "    print(extract_title(raw_title))"
   ]
  },
  {
   "cell_type": "code",
   "execution_count": 52,
   "id": "0de91baf-9431-405c-976b-74e29f58dcc3",
   "metadata": {
    "tags": []
   },
   "outputs": [
    {
     "data": {
      "text/plain": [
       "[['Toy', 'Story'],\n",
       " ['GoldenEye'],\n",
       " ['Four', 'Rooms'],\n",
       " ['Get', 'Shorty'],\n",
       " ['Copycat']]"
      ]
     },
     "execution_count": 52,
     "metadata": {},
     "output_type": "execute_result"
    }
   ],
   "source": [
    "movie_titles = raw_titles.map(lambda x: extract_title(x))\n",
    "title_terms = movie_titles.map(lambda t: t.split(\" \"))\n",
    "title_terms.take(5)"
   ]
  },
  {
   "cell_type": "code",
   "execution_count": 60,
   "id": "88efdac1-e866-4d9a-af36-24cf6e46ba1d",
   "metadata": {
    "tags": []
   },
   "outputs": [],
   "source": [
    "all_terms = title_terms.flatMap(lambda x: x).distinct().collect()\n",
    "\n",
    "idx = 0\n",
    "all_terms_dict = {}\n",
    "\n",
    "for term in all_terms:\n",
    "    all_terms_dict[term] = idx\n",
    "    idx+=1"
   ]
  },
  {
   "cell_type": "code",
   "execution_count": 62,
   "id": "a08d1530-3be8-454c-8aea-f2cf450e7693",
   "metadata": {
    "tags": []
   },
   "outputs": [
    {
     "name": "stdout",
     "output_type": "stream",
     "text": [
      "Total terms: 2645\n",
      "Index of term 'Dead': 9\n"
     ]
    }
   ],
   "source": [
    "print(\"Total terms: {}\\nIndex of term 'Dead': {}\".format(len(all_terms_dict), all_terms_dict['Dead']))"
   ]
  },
  {
   "cell_type": "code",
   "execution_count": 66,
   "id": "b56831f9-fb11-44c5-9a60-f40a67d7deb0",
   "metadata": {
    "tags": []
   },
   "outputs": [],
   "source": [
    "all_index_dict_zip = title_terms.flatMap(lambda x: x).distinct().zipWithIndex().collectAsMap()"
   ]
  },
  {
   "cell_type": "code",
   "execution_count": 97,
   "id": "508596a7-c527-4a83-952d-8eab02ef6101",
   "metadata": {
    "tags": []
   },
   "outputs": [
    {
     "data": {
      "text/plain": [
       "[['Toy', 'Story'],\n",
       " ['GoldenEye'],\n",
       " ['Four', 'Rooms'],\n",
       " ['Get', 'Shorty'],\n",
       " ['Copycat'],\n",
       " ['Shanghai', 'Triad', '(Yao', 'a', 'yao', 'yao', 'dao', 'waipo', 'qiao)'],\n",
       " ['Twelve', 'Monkeys'],\n",
       " ['Babe'],\n",
       " ['Dead', 'Man', 'Walking'],\n",
       " ['Richard', 'III']]"
      ]
     },
     "execution_count": 97,
     "metadata": {},
     "output_type": "execute_result"
    }
   ],
   "source": [
    "title_terms.take(10)"
   ]
  },
  {
   "cell_type": "code",
   "execution_count": 119,
   "id": "ad9bf49a-7e52-4f0f-bc42-065cbf067889",
   "metadata": {
    "tags": []
   },
   "outputs": [],
   "source": [
    "def create_sparse_vector(terms, term_dict):\n",
    "    num_terms = len(term_dict)\n",
    "    x = sp.csc_matrix((1, num_terms))\n",
    "\n",
    "    for t in terms:\n",
    "        if t in term_dict:\n",
    "            idx = term_dict[t]\n",
    "            x[0, idx] = 1\n",
    "    return x"
   ]
  },
  {
   "cell_type": "code",
   "execution_count": 120,
   "id": "a86452c0-187b-40b5-9aa7-9d1d6787c881",
   "metadata": {
    "tags": []
   },
   "outputs": [
    {
     "data": {
      "text/plain": [
       "[['Toy', 'Story'], ['GoldenEye']]"
      ]
     },
     "execution_count": 120,
     "metadata": {},
     "output_type": "execute_result"
    }
   ],
   "source": [
    "title_terms.take(2)"
   ]
  },
  {
   "cell_type": "code",
   "execution_count": 123,
   "id": "1a2c1a21-92d4-4f44-a0ce-8c3c824bed42",
   "metadata": {
    "tags": []
   },
   "outputs": [
    {
     "data": {
      "text/plain": [
       "[<1x2645 sparse matrix of type '<class 'numpy.float64'>'\n",
       " \twith 2 stored elements in Compressed Sparse Column format>,\n",
       " <1x2645 sparse matrix of type '<class 'numpy.float64'>'\n",
       " \twith 1 stored elements in Compressed Sparse Column format>,\n",
       " <1x2645 sparse matrix of type '<class 'numpy.float64'>'\n",
       " \twith 2 stored elements in Compressed Sparse Column format>,\n",
       " <1x2645 sparse matrix of type '<class 'numpy.float64'>'\n",
       " \twith 2 stored elements in Compressed Sparse Column format>,\n",
       " <1x2645 sparse matrix of type '<class 'numpy.float64'>'\n",
       " \twith 1 stored elements in Compressed Sparse Column format>]"
      ]
     },
     "execution_count": 123,
     "metadata": {},
     "output_type": "execute_result"
    }
   ],
   "source": [
    "all_terms_bcast = sc.broadcast(all_terms_dict)\n",
    "term_vectors = title_terms.map(lambda terms: create_sparse_vector(terms, all_terms_bcast.value))\n",
    "term_vectors.take(5)"
   ]
  },
  {
   "cell_type": "code",
   "execution_count": 128,
   "id": "d69afe50-dbb1-43bc-904b-da5058c77ea4",
   "metadata": {
    "tags": []
   },
   "outputs": [
    {
     "name": "stdout",
     "output_type": "stream",
     "text": [
      "x is: [ 0.49671415 -0.1382643   0.64768854  1.52302986 -0.23415337 -0.23413696\n",
      "  1.57921282  0.76743473 -0.46947439  0.54256004]\n",
      "2-Norm of x is: 2.5908023950696855\n",
      "Normalized x: [ 0.19172213 -0.05336737  0.24999534  0.58786029 -0.09037871 -0.09037237\n",
      "  0.60954584  0.29621508 -0.1812081   0.20941776]\n",
      "2-Norm of normalized x: 1.0\n"
     ]
    }
   ],
   "source": [
    "# E.g of normalizing a feature vector\n",
    "np.random.seed(42)\n",
    "\n",
    "x = np.random.randn(10)\n",
    "norm_x = np.linalg.norm(x)\n",
    "\n",
    "normalized_x = x/norm_x\n",
    "print(\"x is: {}\\n2-Norm of x is: {}\\nNormalized x: {}\\n2-Norm of normalized x: {}\".format(x, norm_x, normalized_x, np.linalg.norm(normalized_x)))"
   ]
  },
  {
   "cell_type": "code",
   "execution_count": 131,
   "id": "8cad5598-0d72-4fcd-9d0f-01dc87f315d0",
   "metadata": {
    "tags": []
   },
   "outputs": [],
   "source": [
    "normalizer = Normalizer()\n",
    "vector = sc.parallelize([x])\n",
    "normalized_x_mllib = normalizer.transform(vector).first().toArray()"
   ]
  },
  {
   "cell_type": "code",
   "execution_count": 132,
   "id": "e0b8fcf6-b7da-4e32-9db7-b77c6bce897f",
   "metadata": {
    "tags": []
   },
   "outputs": [
    {
     "name": "stdout",
     "output_type": "stream",
     "text": [
      "x is: [ 0.49671415 -0.1382643   0.64768854  1.52302986 -0.23415337 -0.23413696\n",
      "  1.57921282  0.76743473 -0.46947439  0.54256004]\n",
      "2-Norm of x is: 2.5908023950696855\n",
      "Normalized x: [ 0.19172213 -0.05336737  0.24999534  0.58786029 -0.09037871 -0.09037237\n",
      "  0.60954584  0.29621508 -0.1812081   0.20941776]\n",
      "2-Norm of normalized x: 1.0\n"
     ]
    }
   ],
   "source": [
    "print(\"x is: {}\\n2-Norm of x is: {}\\nNormalized x: {}\\n2-Norm of normalized x: {}\".format(x, norm_x, normalized_x_mllib, np.linalg.norm(normalized_x_mllib)))"
   ]
  }
 ],
 "metadata": {
  "kernelspec": {
   "display_name": "Python 3 (ipykernel)",
   "language": "python",
   "name": "python3"
  },
  "language_info": {
   "codemirror_mode": {
    "name": "ipython",
    "version": 3
   },
   "file_extension": ".py",
   "mimetype": "text/x-python",
   "name": "python",
   "nbconvert_exporter": "python",
   "pygments_lexer": "ipython3",
   "version": "3.11.5"
  }
 },
 "nbformat": 4,
 "nbformat_minor": 5
}
